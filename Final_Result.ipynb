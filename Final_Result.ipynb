{
 "cells": [
  {
   "cell_type": "code",
   "execution_count": 1,
   "metadata": {},
   "outputs": [],
   "source": [
    "import numpy as np\n",
    "import seaborn as sns\n",
    "import pandas as pd\n",
    "import matplotlib.pyplot as plt"
   ]
  },
  {
   "cell_type": "code",
   "execution_count": 2,
   "metadata": {},
   "outputs": [
    {
     "data": {
      "text/html": [
       "<div>\n",
       "<style scoped>\n",
       "    .dataframe tbody tr th:only-of-type {\n",
       "        vertical-align: middle;\n",
       "    }\n",
       "\n",
       "    .dataframe tbody tr th {\n",
       "        vertical-align: top;\n",
       "    }\n",
       "\n",
       "    .dataframe thead th {\n",
       "        text-align: right;\n",
       "    }\n",
       "</style>\n",
       "<table border=\"1\" class=\"dataframe\">\n",
       "  <thead>\n",
       "    <tr style=\"text-align: right;\">\n",
       "      <th></th>\n",
       "      <th>ICMP</th>\n",
       "      <th>TCP</th>\n",
       "      <th>UDP</th>\n",
       "    </tr>\n",
       "  </thead>\n",
       "  <tbody>\n",
       "    <tr>\n",
       "      <th>Logistic Regression</th>\n",
       "      <td>99.915136</td>\n",
       "      <td>88.399240</td>\n",
       "      <td>73.910873</td>\n",
       "    </tr>\n",
       "    <tr>\n",
       "      <th>KNN Classifier</th>\n",
       "      <td>99.987877</td>\n",
       "      <td>99.681635</td>\n",
       "      <td>73.149420</td>\n",
       "    </tr>\n",
       "    <tr>\n",
       "      <th>MLP Classifer</th>\n",
       "      <td>99.886848</td>\n",
       "      <td>96.126564</td>\n",
       "      <td>70.927475</td>\n",
       "    </tr>\n",
       "    <tr>\n",
       "      <th>Decision Tree Classifier</th>\n",
       "      <td>99.987877</td>\n",
       "      <td>99.829647</td>\n",
       "      <td>77.718138</td>\n",
       "    </tr>\n",
       "    <tr>\n",
       "      <th>Random Forest Classfier</th>\n",
       "      <td>99.981815</td>\n",
       "      <td>99.835232</td>\n",
       "      <td>77.768069</td>\n",
       "    </tr>\n",
       "  </tbody>\n",
       "</table>\n",
       "</div>"
      ],
      "text/plain": [
       "                               ICMP        TCP        UDP\n",
       "Logistic Regression       99.915136  88.399240  73.910873\n",
       "KNN Classifier            99.987877  99.681635  73.149420\n",
       "MLP Classifer             99.886848  96.126564  70.927475\n",
       "Decision Tree Classifier  99.987877  99.829647  77.718138\n",
       "Random Forest Classfier   99.981815  99.835232  77.768069"
      ]
     },
     "execution_count": 2,
     "metadata": {},
     "output_type": "execute_result"
    }
   ],
   "source": [
    "result = pd.read_csv('./datasets/Final_Result.csv',index_col = 0)\n",
    "result"
   ]
  },
  {
   "cell_type": "code",
   "execution_count": 11,
   "metadata": {},
   "outputs": [
    {
     "data": {
      "image/png": "[encoded data removed]",
      "text/plain": [
       "<Figure size 864x288 with 1 Axes>"
      ]
     },
     "metadata": {
      "needs_background": "light"
     },
     "output_type": "display_data"
    }
   ],
   "source": [
    "plt.figure(figsize=(12,4))\n",
    "plt.plot(result)\n",
    "plt.legend(result.columns,loc=0)\n",
    "plt.title(\"Combined Detection Scores\")\n",
    "plt.ylim(70,102)\n",
    "plt.show()"
   ]
  },
  {
   "cell_type": "code",
   "execution_count": null,
   "metadata": {},
   "outputs": [],
   "source": []
  }
 ],
 "metadata": {
  "kernelspec": {
   "display_name": "Python 3",
   "language": "python",
   "name": "python3"
  },
  "language_info": {
   "codemirror_mode": {
    "name": "ipython",
    "version": 3
   },
   "file_extension": ".py",
   "mimetype": "text/x-python",
   "name": "python",
   "nbconvert_exporter": "python",
   "pygments_lexer": "ipython3",
   "version": "3.7.7"
  }
 },
 "nbformat": 4,
 "nbformat_minor": 4
}
